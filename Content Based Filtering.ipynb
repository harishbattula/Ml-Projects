{
 "cells": [
  {
   "cell_type": "markdown",
   "id": "9dce5977",
   "metadata": {},
   "source": [
    "## Content Based Movie Recommendation System\n",
    "![alt text](GoogleRecommendationForTheDarkKnight.png \"Google Movie Recommendation\")\n",
    "Google comes up with movies that are similar to the ones you like. \n",
    "\n",
    "It turns out that there are (mostly) three ways to build a recommendation engine:\n",
    "\n",
    "    1. Popularity based recommendation engine\n",
    "    2. Content based recommendation engine\n",
    "    3. Collaborative filtering based recommendation engine\n",
    "    \n",
    "<h5>Popularity based recommendation engine:</h5>\n",
    "\n",
    "Perhaps, this is the simplest kind of recommendation engine that every one can implement. The trending list we see in YouTube or Netflix is based on this algorithm. It keeps a track of view counts for each movie/video and then lists movies based on views in descending order(highest view count to lowest view count). It is Pretty simple but, effective.\n",
    "\n",
    "<h5>Content based recommendation engine:</h5>\n",
    "\n",
    "This type of recommendation systems, takes in a movie that a user currently likes as input. Then it analyzes the contents (storyline, genre, cast, director etc.) of the movie to find out other movies which have similar content. Then it ranks similar movies according to their similarity scores and recommends the most relevant movies to the user.\n",
    "\n",
    "<h5>Collaborative filtering based recommendation engine: </h5>\n",
    "\n",
    "This algorithm at first tries to find similar users based on their activities and preferences (for example, both the users watch same type of movies or movies directed by the same director). Now, between these users(say, A and B) if user A has seen a movie that user B has not seen yet, then that movie gets recommended to user B and vice-versa. In other words, the recommendations get filtered based on the collaboration between similar user’s preferences (thus, the name “Collaborative Filtering”). One typical application of this algorithm can be seen in the Amazon e-commerce platform, where you get to see the “Customers who viewed this item also viewed” and “Customers who bought this item also bought” list.\n",
    "\n",
    "![alt text](AmazonRecommendation.jpg \"Amazon Recommendation\")\n",
    "\n",
    "![alt text](ContentvsCollaborative.png \"Content vs collaborative\")\n",
    "\n",
    "\n",
    "Another type of recommendation system can be created by mixing properties of two or more types of recommendation systems. This type of recommendation systems are known as hybrid recommendation system.\n",
    "\n",
    "In this project, we are implementing content based recommendation system using cosine similarity.\n",
    "\n",
    "##### Finding the similarity\n",
    "We know our recommendation system is content based, so we need to find simliar movies for a given movie and then recommend those movies to the user.\n",
    "\n",
    "But how can we find which movie is similar to given movie, and how much it is similar to given movie.\n",
    "\n",
    "For suppose let's say we have two sentences\n",
    "\n",
    "1. \"Bangalore Hyderabad Bangalore\"\n",
    "2. \"Hyderabad Hyderabad Bangalore\"\n",
    "\n",
    "we can write above strings as a vectors\n",
    "\n",
    "Bangalore Hyderabad\n",
    "\n",
    "1. (2, 1)\n",
    "2. (1, 2)\n",
    "\n",
    "Representing those two vectors in graph will be like this\n",
    "\n",
    "![alt text](graph.png \"Graph\")\n",
    "\n",
    "Here, the blue vector represents “Sentence 1” and the red vector represents “Sentence 1”.\n",
    "\n",
    "Now we have graphically represented these two sentences. \n",
    "\n",
    "These two texts are represented as vectors. Right? So, we can say that two vectors are similar if the distance between them is small. By distance, we mean the angular distance between two vectors, which is represented by θ (theta). By thinking further from the machine learning perspective, we can understand that the value of cos θ makes more sense to us rather than the value of θ (theta) because, the cosine(or “cos”) function will map the value of θ in the first quadrant between 0 to 1 (Remember? cos 90° = 0 and cos 0° = 1 ).\n",
    "\n",
    "##### Cosine similarity\n",
    "It is a metric, helpful in determining, how similar the data objects are irrespective of their size. We can measure the similarity between two sentences in Python using Cosine Similarity. In cosine similarity, data objects in a dataset are treated as a vector. \n",
    "The formula to find the cosine similarity between two vectors is given by--\n",
    "\n",
    "Cos(x, y) = x . y / ||x|| * ||y||\n",
    "\n",
    "where,\n",
    "\n",
    "x . y = product (dot) of the vectors ‘x’ and ‘y’.\n",
    "\n",
    "||x|| and ||y|| = length of the two vectors ‘x’ and ‘y’.\n",
    "\n",
    "||x|| * ||y|| = cross product of the two vectors ‘x’ and ‘y’.\n",
    "\n",
    "Example :\n",
    "\n",
    "Consider an example to find the similarity between two vectors – ‘x’ and ‘y’, using Cosine Similarity.\n",
    "\n",
    "The ‘x’ vector has values, x = { 1, 6, 3, 0 }\n",
    "The ‘y’ vector has values, y = { 1, 7, 4, 1 }\n",
    "\n",
    "The formula for calculating the cosine similarity is : Cos(x, y) = x . y / ||x|| * ||y||"
   ]
  },
  {
   "cell_type": "code",
   "execution_count": 1,
   "id": "ae8fca6a",
   "metadata": {},
   "outputs": [
    {
     "name": "stdout",
     "output_type": "stream",
     "text": [
      "Cosine similarity between [1, 6, 3, 0] and [1, 7, 4, 1] is :  0.9907096022037775\n"
     ]
    }
   ],
   "source": [
    "import numpy as np\n",
    "import math\n",
    "\n",
    "\n",
    "# cosine similarity implementation\n",
    "x = [1, 6, 3, 0]\n",
    "y = [1, 7, 4, 1]\n",
    "\n",
    "# consider x . y = xy\n",
    "# xy = 1*1 + 6*7 + 3*4 + 0*1\n",
    "xy = sum(x * y for x, y in zip(x, y))\n",
    "\n",
    "# magx = √ 1^2 + 6^2 + 3^2 + 0^2\n",
    "magx = np.sqrt(sum(x * x for x in x))\n",
    "\n",
    "# similarly\n",
    "magy = np.sqrt(sum(y * y for y in y))\n",
    "\n",
    "CosineSimilarity = xy/(magx * magy)\n",
    "print(f\"Cosine similarity between {x} and {y} is : \", CosineSimilarity)"
   ]
  },
  {
   "cell_type": "code",
   "execution_count": 2,
   "id": "c54fc22b",
   "metadata": {},
   "outputs": [],
   "source": [
    "text = [\"Bangalore Hyderabad Bangalore\",\"Hyderabad Hyderabad Bangalore\"]\n",
    "\n",
    "# but how can we convert them into vector's ??\n",
    "# we need to find a way to represent these text's in vector form. "
   ]
  },
  {
   "cell_type": "markdown",
   "id": "fe24abbf",
   "metadata": {},
   "source": [
    "The CountVectorizer() class from sklearn.feature_extraction.text library can do this for us. We need to import this library before we can create a new CountVectorizer() object. But in this project <code>we try to implement everything from scratch </code>."
   ]
  },
  {
   "cell_type": "markdown",
   "id": "311d99aa",
   "metadata": {},
   "source": [
    "### Content Based Movie Recommendation from scratch using <code>python, numpy, some mathematical concepts and pandas</code>"
   ]
  },
  {
   "cell_type": "code",
   "execution_count": 18,
   "id": "a2ff09cc",
   "metadata": {},
   "outputs": [],
   "source": [
    "# Content Based Movie Recommendation class\n",
    "\n",
    "class ContentBasedRecommendation:\n",
    "    \n",
    "    # constructor def which accepts target string and content to search from\n",
    "    def __init__(self, Target, Content, Movies = None):\n",
    "\n",
    "        # storing Movies list\n",
    "        self.Movies = Movies\n",
    "        \n",
    "        # preserving content for example demonstration\n",
    "        self.RawContent = Content\n",
    "        \n",
    "        # preserving Target for example demonstration\n",
    "        self.RawTarget = Target\n",
    "        \n",
    "        # assing target dictonary that we get when calling self.CustomVectorizer with string parameter\n",
    "        self.TargetContent = self.CustomVectorizer(str(Target))\n",
    "        \n",
    "        \n",
    "        \n",
    "        # list of Order of the keys in self.TargetContent\n",
    "        self.Order = list(self.TargetContent.keys())\n",
    "        \n",
    "        # assigning Content to Content property of self object\n",
    "        self.Content = self.CustomVectorizer(Content, self.Order)        \n",
    "        \n",
    "     \n",
    "    \n",
    "    def GetCountOfValuesInString(self, String):\n",
    "        \n",
    "        # Initilizing empty dictonary\n",
    "        Vector = dict()\n",
    "\n",
    "        # for each word in sentence seperated by space\n",
    "        for PartofStr in String.split(\" \"):\n",
    "\n",
    "            # If Vector has this key already\n",
    "            if PartofStr in Vector.keys():\n",
    "\n",
    "                # Incrent the value of key in Vector\n",
    "                Vector[PartofStr] += 1\n",
    "            else: \n",
    "\n",
    "                # Else add the key to the Vector with value 1\n",
    "                Vector[PartofStr] = 1\n",
    "\n",
    "        # return vactor\n",
    "        return Vector\n",
    "            \n",
    "            \n",
    "    \n",
    "    # Custion Vectorizer function that converts any given string or list to packed vectors\n",
    "    def CustomVectorizer(self, String, Order = None):\n",
    "        \n",
    "        # if we pass a string\n",
    "        if type(String) == str:\n",
    "            \n",
    "            return self.GetCountOfValuesInString(String)\n",
    "            \n",
    "        \n",
    "        # if we pass list as String\n",
    "        elif type(String) == list:\n",
    "            \n",
    "            # Initilize empty list\n",
    "            ListOfDicts = list()\n",
    "            \n",
    "            # for each string in the passed list\n",
    "            for strr in String:\n",
    "                \n",
    "                # calling self.GetCountOfValuesInString() to get vector in the form of dictonary\n",
    "                # and append the dictonary to ListOfDicts\n",
    "                ListOfDicts.append(self.ReorderDict(self.GetCountOfValuesInString(strr), self.Order))\n",
    "            \n",
    "            # return ListOfDicts\n",
    "            return ListOfDicts\n",
    "    \n",
    "        \n",
    "    # funciton that returns cosine similarities\n",
    "    def CosineSimilarity(self, FeatureVectors, Target):\n",
    "    \n",
    "        # square root of sum of squares of each data point in a target sample\n",
    "        MagTarget = np.sqrt(sum(DataPoint * DataPoint for DataPoint in Target))\n",
    "        \n",
    "        # empty list to keep track Similarities\n",
    "        Similarities = list()\n",
    "        \n",
    "        # for sample in population\n",
    "        for Sample in FeatureVectors:\n",
    "            \n",
    "            # magnitude of sample vector\n",
    "            MagSample = np.sqrt(sum(DataPoint * DataPoint for DataPoint in Sample))\n",
    "            \n",
    "            # sum of product of each data point in respective between respective sample and target\n",
    "            xy = sum(x * y for x, y in zip(Target, Sample))\n",
    "            \n",
    "            # Formula for cosine similarity\n",
    "            Val = xy / (MagTarget * MagSample)\n",
    "            \n",
    "            # If the value is nan\n",
    "            if np.isnan(Val):\n",
    "                \n",
    "                # append 0 instead of nan\n",
    "                Similarities.append(0)\n",
    "            else:\n",
    "                \n",
    "                # else append normal cosine similarity\n",
    "                Similarities.append(Val)\n",
    "        \n",
    "        # return cosine similarities list\n",
    "        return Similarities\n",
    "\n",
    "    # method that reorders the keyvalue pairs\n",
    "    def ReorderDict(self, Dic, Order):\n",
    "        \n",
    "        # returns keyvalue pairs that target dictonary has\n",
    "        return {k : Dic[k] if k in Dic.keys() else 0 for k in Order}\n",
    "\n",
    "    \n",
    "    # method that returns list of recommendations\n",
    "    def GetRecommendations(self, NoofRecommendations):\n",
    "        \n",
    "        # getting values in target dictonary and typecasting to list\n",
    "        Tar = list(self.TargetContent.values())\n",
    "        \n",
    "        # getting list of all dictonaries of available movies\n",
    "        Avals = [list(dic.values()) for dic in self.Content]\n",
    "        \n",
    "        # finding cosine similarities\n",
    "        Similarities = self.CosineSimilarity(Avals, Tar)\n",
    "        \n",
    "        # sorting indexes based on values\n",
    "        # We will sort the list similar_movies according to similarity scores in descending order. \n",
    "        # Since the most similar movie to a given movie will be itself, \n",
    "        # we will discard the first element after sorting the movies.\n",
    "        # Since we won't condiser same movie recommendation we add one to NoofRecommendaions\n",
    "        SilmilarMovieIndexes = sorted(range(len(Similarities)), key = lambda x: Similarities[x])[-NoofRecommendations - 1:]\n",
    "        \n",
    "        # reversing sorted indexes\n",
    "        SilmilarMovieIndexes.reverse()\n",
    "        \n",
    "        # returning movies by indexes\n",
    "        RecommendedMovies = list()\n",
    "        \n",
    "        for index in SilmilarMovieIndexes:\n",
    "            if self.Movies == None:\n",
    "                RecommendedMovies.append(self.RawContent[index])\n",
    "            else :\n",
    "                RecommendedMovies.append(self.Movies[index])\n",
    "        \n",
    "        # removing the our target movie\n",
    "        if self.Movies != None:\n",
    "            RecommendedMovies.pop(0)\n",
    "        return RecommendedMovies"
   ]
  },
  {
   "cell_type": "code",
   "execution_count": 7,
   "id": "17419bfa",
   "metadata": {},
   "outputs": [],
   "source": [
    "# demonstrating the procedure using one example\n",
    "OurIntrest = \"Bangalore Hyderabad Bangalore\"\n",
    "Availabilites = [\"Hyderabad Mumbai Chennai\", \"Mumbai Chennai Kolkata\", \n",
    "                 \"Bangalore Bangalore Hyderabad\", \"Hyderabad Bangalore Hyderabad\", \"Bangalore Hyderabad Bangalore\",\n",
    "                \"Newyork Sydney Bangalore\", \"Bangalore Bangalore Bangalore\", \"Hyderabad Hyderabad Hyderabad\"]"
   ]
  },
  {
   "cell_type": "code",
   "execution_count": 8,
   "id": "049fe385",
   "metadata": {},
   "outputs": [
    {
     "name": "stdout",
     "output_type": "stream",
     "text": [
      "##########     Sentences that are similar to Bangalore Hyderabad Bangalore are   ############\n",
      "Bangalore Hyderabad Bangalore\n",
      "Bangalore Bangalore Hyderabad\n"
     ]
    },
    {
     "name": "stderr",
     "output_type": "stream",
     "text": [
      "C:\\Users\\Harish\\AppData\\Local\\Temp\\ipykernel_12960\\3194396128.py:98: RuntimeWarning: invalid value encountered in double_scalars\n",
      "  Val = xy / (MagTarget * MagSample)\n"
     ]
    }
   ],
   "source": [
    "cbr = ContentBasedRecommendation(OurIntrest, Availabilites)\n",
    "Recommendations = cbr.GetRecommendations(3)\n",
    "\n",
    "print(f\"##########     Sentences that are similar to {OurIntrest} are   ############\")\n",
    "for recommendation in Recommendations:\n",
    "    print(recommendation)"
   ]
  },
  {
   "cell_type": "code",
   "execution_count": 9,
   "id": "0c5c1f80",
   "metadata": {},
   "outputs": [],
   "source": [
    "import pandas as pd\n",
    "\n",
    "# reading csv file using pandas\n",
    "df = pd.read_csv(\"Movies1.csv\")"
   ]
  },
  {
   "cell_type": "code",
   "execution_count": 10,
   "id": "60a531fd",
   "metadata": {},
   "outputs": [
    {
     "data": {
      "text/plain": [
       "Index(['index', 'budget', 'genres', 'homepage', 'id', 'keywords',\n",
       "       'original_language', 'original_title', 'overview', 'popularity',\n",
       "       'production_companies', 'production_countries', 'release_date',\n",
       "       'revenue', 'runtime', 'spoken_languages', 'status', 'tagline', 'title',\n",
       "       'vote_average', 'vote_count', 'cast', 'crew', 'director'],\n",
       "      dtype='object')"
      ]
     },
     "execution_count": 10,
     "metadata": {},
     "output_type": "execute_result"
    }
   ],
   "source": [
    "# analysing columns in dataset\n",
    "df.columns"
   ]
  },
  {
   "cell_type": "markdown",
   "id": "a947bf77",
   "metadata": {},
   "source": [
    "If you analyse the dataset, we will see that it has many extra info about a movie. We don’t need all of them. So, we choose <code>keywords, cast, genres and director</code> columns to use as our feature set(the so called “content” of the movie)."
   ]
  },
  {
   "cell_type": "code",
   "execution_count": 11,
   "id": "920c0f79",
   "metadata": {},
   "outputs": [],
   "source": [
    "features = ['keywords','cast','genres','director']"
   ]
  },
  {
   "cell_type": "markdown",
   "id": "d5d6ea8a",
   "metadata": {},
   "source": [
    "create a function for combining the values of these columns into a single string column called CombinedFeatures."
   ]
  },
  {
   "cell_type": "code",
   "execution_count": 12,
   "id": "18dd5a1c",
   "metadata": {},
   "outputs": [],
   "source": [
    "# function that combines out required feature values into single feature for \n",
    "# further model implementation\n",
    "def CombinedFeatures(row):\n",
    "    return row['keywords']+\" \"+row['cast']+\" \"+row['genres']+\" \"+row['director']"
   ]
  },
  {
   "cell_type": "code",
   "execution_count": 13,
   "id": "9be0a8b6",
   "metadata": {},
   "outputs": [],
   "source": [
    "# cleaning feature values using fillna\n",
    "for feature in features:\n",
    "    df[feature] = df[feature].fillna('') #filling all NaNs with blank string"
   ]
  },
  {
   "cell_type": "code",
   "execution_count": 14,
   "id": "7018ec6b",
   "metadata": {},
   "outputs": [],
   "source": [
    "#applying combined_features() method over each rows of dataframe and storing the CombinedFeatures column\n",
    "df[\"CombinedFeatures\"] = df.apply(CombinedFeatures,axis=1) "
   ]
  },
  {
   "cell_type": "code",
   "execution_count": 15,
   "id": "8ffc1435",
   "metadata": {},
   "outputs": [
    {
     "data": {
      "text/plain": [
       "'culture clash future space war space colony society Sam Worthington Zoe Saldana Sigourney Weaver Stephen Lang Michelle Rodriguez Action Adventure Fantasy Science Fiction James Cameron'"
      ]
     },
     "execution_count": 15,
     "metadata": {},
     "output_type": "execute_result"
    }
   ],
   "source": [
    "# viewing what's happening with the method by selecting one sample\n",
    "df.iloc[0].CombinedFeatures"
   ]
  },
  {
   "cell_type": "code",
   "execution_count": 16,
   "id": "b6939cb4",
   "metadata": {},
   "outputs": [
    {
     "name": "stdout",
     "output_type": "stream",
     "text": [
      "dc comics crime fighter secret identity scarecrow sadism Christian Bale Heath Ledger Aaron Eckhart Michael Caine Maggie Gyllenhaal Drama Action Crime Thriller Christopher Nolan\n"
     ]
    }
   ],
   "source": [
    "# for suppose i'm intrested in the dark Knight movie\n",
    "# Get the content of the movie\n",
    "ContentForTheDarknight = df[df[\"title\"] == \"The Dark Knight\"][\"CombinedFeatures\"].values[0]\n",
    "\n",
    "# print content of the the dark knight movie\n",
    "print(ContentForTheDarknight)"
   ]
  },
  {
   "cell_type": "code",
   "execution_count": 19,
   "id": "30c328d4",
   "metadata": {},
   "outputs": [
    {
     "name": "stdout",
     "output_type": "stream",
     "text": [
      "The Dark Knight Rises\n",
      "Batman Begins\n",
      "The Prestige\n",
      "Kick-Ass 2\n",
      "Kick-Ass\n",
      "Batman & Robin\n",
      "Batman\n",
      "Batman Returns\n",
      "Harsh Times\n",
      "Harry Brown\n"
     ]
    },
    {
     "name": "stderr",
     "output_type": "stream",
     "text": [
      "C:\\Users\\Harish\\AppData\\Local\\Temp\\ipykernel_12960\\1951912668.py:98: RuntimeWarning: invalid value encountered in double_scalars\n",
      "  Val = xy / (MagTarget * MagSample)\n"
     ]
    }
   ],
   "source": [
    "# creating instance of the ContentBasedRecommendation class that accepts\n",
    "# our intrests, other available movies content, and their names\n",
    "cbr = ContentBasedRecommendation(ContentForTheDarknight, list(df[\"CombinedFeatures\"].values), list(df[\"title\"].values))\n",
    "\n",
    "# Getting recommendations\n",
    "Recommendations = cbr.GetRecommendations(10)\n",
    "\n",
    "# printing recommendations\n",
    "for recommendation in Recommendations:\n",
    "    print(recommendation)"
   ]
  }
 ],
 "metadata": {
  "kernelspec": {
   "display_name": "Python 3 (ipykernel)",
   "language": "python",
   "name": "python3"
  },
  "language_info": {
   "codemirror_mode": {
    "name": "ipython",
    "version": 3
   },
   "file_extension": ".py",
   "mimetype": "text/x-python",
   "name": "python",
   "nbconvert_exporter": "python",
   "pygments_lexer": "ipython3",
   "version": "3.10.1"
  }
 },
 "nbformat": 4,
 "nbformat_minor": 5
}
